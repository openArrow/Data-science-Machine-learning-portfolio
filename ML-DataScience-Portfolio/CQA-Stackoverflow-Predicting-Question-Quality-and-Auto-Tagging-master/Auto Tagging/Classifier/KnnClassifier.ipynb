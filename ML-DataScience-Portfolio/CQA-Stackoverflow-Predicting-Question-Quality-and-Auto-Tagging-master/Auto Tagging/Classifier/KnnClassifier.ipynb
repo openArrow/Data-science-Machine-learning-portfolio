{
 "cells": [
  {
   "cell_type": "code",
   "execution_count": 1,
   "metadata": {
    "collapsed": false
   },
   "outputs": [
    {
     "name": "stderr",
     "output_type": "stream",
     "text": [
      "A newer version of GraphLab Create (v1.9) is available! Your current version is v1.8.5.\n",
      "\n",
      "You can use pip to upgrade the graphlab-create package. For more information see https://dato.com/products/create/upgrade.\n"
     ]
    }
   ],
   "source": [
    "import graphlab as gl"
   ]
  },
  {
   "cell_type": "code",
   "execution_count": 2,
   "metadata": {
    "collapsed": true
   },
   "outputs": [],
   "source": [
    "import math\n",
    "from collections import OrderedDict"
   ]
  },
  {
   "cell_type": "code",
   "execution_count": 3,
   "metadata": {
    "collapsed": false,
    "scrolled": false
   },
   "outputs": [
    {
     "name": "stderr",
     "output_type": "stream",
     "text": [
      "2016-05-03 21:42:47,166 [INFO] graphlab.cython.cy_server, 176: GraphLab Create v1.8.5 started. Logging: /tmp/graphlab_server_1462336961.log\n"
     ]
    },
    {
     "data": {
      "text/html": [
       "<pre>Unable to parse line \"18671,\"PHP replace double backslashes \"\"\\\\\"\" to a single backslash \"\"\\\"\"\",php\"</pre>"
      ],
      "text/plain": [
       "Unable to parse line \"18671,\"PHP replace double backslashes \"\"\\\\\"\" to a single backslash \"\"\\\"\"\",php\""
      ]
     },
     "metadata": {},
     "output_type": "display_data"
    },
    {
     "data": {
      "text/html": [
       "<pre>Unable to parse line \"3747,\"What is the difference between the Project and SVN workingDirectory config Blocks in CruiseControl.NET\"</pre>"
      ],
      "text/plain": [
       "Unable to parse line \"3747,\"What is the difference between the Project and SVN workingDirectory config Blocks in CruiseControl.NET\""
      ]
     },
     "metadata": {},
     "output_type": "display_data"
    },
    {
     "data": {
      "text/html": [
       "<pre>Unable to parse line \"\",svn\"</pre>"
      ],
      "text/plain": [
       "Unable to parse line \"\",svn\""
      ]
     },
     "metadata": {},
     "output_type": "display_data"
    },
    {
     "data": {
      "text/html": [
       "<pre>Unable to parse line \"16398,\"Using \"\"~\"\" in a path resolvs as C:\\\",asp.net\"</pre>"
      ],
      "text/plain": [
       "Unable to parse line \"16398,\"Using \"\"~\"\" in a path resolvs as C:\\\",asp.net\""
      ]
     },
     "metadata": {},
     "output_type": "display_data"
    },
    {
     "data": {
      "text/html": [
       "<pre>Unable to parse line \"12868,\"C or C++ BigInt library on Microsoft Windows\"</pre>"
      ],
      "text/plain": [
       "Unable to parse line \"12868,\"C or C++ BigInt library on Microsoft Windows\""
      ]
     },
     "metadata": {},
     "output_type": "display_data"
    },
    {
     "data": {
      "text/html": [
       "<pre>Unable to parse line \"\",c\"</pre>"
      ],
      "text/plain": [
       "Unable to parse line \"\",c\""
      ]
     },
     "metadata": {},
     "output_type": "display_data"
    },
    {
     "data": {
      "text/html": [
       "<pre>Unable to parse line \"350294,\"Zend Franework Layout and Modules\"</pre>"
      ],
      "text/plain": [
       "Unable to parse line \"350294,\"Zend Franework Layout and Modules\""
      ]
     },
     "metadata": {},
     "output_type": "display_data"
    },
    {
     "data": {
      "text/html": [
       "<pre>Unable to parse line \"\",php\"</pre>"
      ],
      "text/plain": [
       "Unable to parse line \"\",php\""
      ]
     },
     "metadata": {},
     "output_type": "display_data"
    },
    {
     "data": {
      "text/html": [
       "<pre>Unable to parse line \"76172,\"How to invoke classes dynamically without using eval?\"</pre>"
      ],
      "text/plain": [
       "Unable to parse line \"76172,\"How to invoke classes dynamically without using eval?\""
      ]
     },
     "metadata": {},
     "output_type": "display_data"
    },
    {
     "data": {
      "text/html": [
       "<pre>Unable to parse line \"\",ruby\"</pre>"
      ],
      "text/plain": [
       "Unable to parse line \"\",ruby\""
      ]
     },
     "metadata": {},
     "output_type": "display_data"
    },
    {
     "data": {
      "text/html": [
       "<pre>46 lines failed to parse correctly</pre>"
      ],
      "text/plain": [
       "46 lines failed to parse correctly"
      ]
     },
     "metadata": {},
     "output_type": "display_data"
    },
    {
     "data": {
      "text/html": [
       "<pre>Finished parsing file /Users/saur_navigator/Desktop/csv/MyData1.csv</pre>"
      ],
      "text/plain": [
       "Finished parsing file /Users/saur_navigator/Desktop/csv/MyData1.csv"
      ]
     },
     "metadata": {},
     "output_type": "display_data"
    },
    {
     "data": {
      "text/html": [
       "<pre>Parsing completed. Parsed 100 lines in 1.77263 secs.</pre>"
      ],
      "text/plain": [
       "Parsing completed. Parsed 100 lines in 1.77263 secs."
      ]
     },
     "metadata": {},
     "output_type": "display_data"
    },
    {
     "name": "stdout",
     "output_type": "stream",
     "text": [
      "This non-commercial license of GraphLab Create is assigned to ssing139@asu.edu and will expire on December 28, 2016. For commercial licensing options, visit https://dato.com/buy/.\n",
      "------------------------------------------------------"
     ]
    },
    {
     "data": {
      "text/html": [
       "<pre>Unable to parse line \"18671,\"PHP replace double backslashes \"\"\\\\\"\" to a single backslash \"\"\\\"\"\",php\"</pre>"
      ],
      "text/plain": [
       "Unable to parse line \"18671,\"PHP replace double backslashes \"\"\\\\\"\" to a single backslash \"\"\\\"\"\",php\""
      ]
     },
     "metadata": {},
     "output_type": "display_data"
    },
    {
     "data": {
      "text/html": [
       "<pre>Unable to parse line \"3747,\"What is the difference between the Project and SVN workingDirectory config Blocks in CruiseControl.NET\"</pre>"
      ],
      "text/plain": [
       "Unable to parse line \"3747,\"What is the difference between the Project and SVN workingDirectory config Blocks in CruiseControl.NET\""
      ]
     },
     "metadata": {},
     "output_type": "display_data"
    },
    {
     "data": {
      "text/html": [
       "<pre>Unable to parse line \"\",svn\"</pre>"
      ],
      "text/plain": [
       "Unable to parse line \"\",svn\""
      ]
     },
     "metadata": {},
     "output_type": "display_data"
    },
    {
     "data": {
      "text/html": [
       "<pre>Unable to parse line \"16398,\"Using \"\"~\"\" in a path resolvs as C:\\\",asp.net\"</pre>"
      ],
      "text/plain": [
       "Unable to parse line \"16398,\"Using \"\"~\"\" in a path resolvs as C:\\\",asp.net\""
      ]
     },
     "metadata": {},
     "output_type": "display_data"
    },
    {
     "data": {
      "text/html": [
       "<pre>Unable to parse line \"12868,\"C or C++ BigInt library on Microsoft Windows\"</pre>"
      ],
      "text/plain": [
       "Unable to parse line \"12868,\"C or C++ BigInt library on Microsoft Windows\""
      ]
     },
     "metadata": {},
     "output_type": "display_data"
    },
    {
     "data": {
      "text/html": [
       "<pre>Unable to parse line \"\",c\"</pre>"
      ],
      "text/plain": [
       "Unable to parse line \"\",c\""
      ]
     },
     "metadata": {},
     "output_type": "display_data"
    },
    {
     "data": {
      "text/html": [
       "<pre>Unable to parse line \"350294,\"Zend Franework Layout and Modules\"</pre>"
      ],
      "text/plain": [
       "Unable to parse line \"350294,\"Zend Franework Layout and Modules\""
      ]
     },
     "metadata": {},
     "output_type": "display_data"
    },
    {
     "data": {
      "text/html": [
       "<pre>Unable to parse line \"\",php\"</pre>"
      ],
      "text/plain": [
       "Unable to parse line \"\",php\""
      ]
     },
     "metadata": {},
     "output_type": "display_data"
    },
    {
     "data": {
      "text/html": [
       "<pre>Unable to parse line \"76172,\"How to invoke classes dynamically without using eval?\"</pre>"
      ],
      "text/plain": [
       "Unable to parse line \"76172,\"How to invoke classes dynamically without using eval?\""
      ]
     },
     "metadata": {},
     "output_type": "display_data"
    },
    {
     "data": {
      "text/html": [
       "<pre>Unable to parse line \"\",ruby\"</pre>"
      ],
      "text/plain": [
       "Unable to parse line \"\",ruby\""
      ]
     },
     "metadata": {},
     "output_type": "display_data"
    },
    {
     "data": {
      "text/html": [
       "<pre>46 lines failed to parse correctly</pre>"
      ],
      "text/plain": [
       "46 lines failed to parse correctly"
      ]
     },
     "metadata": {},
     "output_type": "display_data"
    },
    {
     "data": {
      "text/html": [
       "<pre>Finished parsing file /Users/saur_navigator/Desktop/csv/MyData1.csv</pre>"
      ],
      "text/plain": [
       "Finished parsing file /Users/saur_navigator/Desktop/csv/MyData1.csv"
      ]
     },
     "metadata": {},
     "output_type": "display_data"
    },
    {
     "data": {
      "text/html": [
       "<pre>Parsing completed. Parsed 558919 lines in 1.46704 secs.</pre>"
      ],
      "text/plain": [
       "Parsing completed. Parsed 558919 lines in 1.46704 secs."
      ]
     },
     "metadata": {},
     "output_type": "display_data"
    },
    {
     "name": "stdout",
     "output_type": "stream",
     "text": [
      "\n",
      "Inferred types from first line of file as \n",
      "column_type_hints=[int,str,str]\n",
      "If parsing fails due to incorrect types, you can correct\n",
      "the inferred type list above and pass it to read_csv in\n",
      "the column_type_hints argument\n",
      "------------------------------------------------------\n"
     ]
    }
   ],
   "source": [
    "stack1 = gl.SFrame('MyData1.csv')"
   ]
  },
  {
   "cell_type": "code",
   "execution_count": 4,
   "metadata": {
    "collapsed": false
   },
   "outputs": [],
   "source": [
    "N = 200\n",
    "stack = stack1[1:N+1]"
   ]
  },
  {
   "cell_type": "code",
   "execution_count": 17,
   "metadata": {
    "collapsed": false
   },
   "outputs": [],
   "source": [
    "# corpus row for each element \n",
    "corpus_row = []\n",
    "tf_row = []\n",
    "df_row = {}\n",
    "s = set()\n",
    "# total number of unique words\n",
    "uniq_word = []\n",
    "tf_idf = []\n",
    "def calUniqueWord(text):\n",
    "    for i in range(0,N):\n",
    "        corpus_row.append(text[i]['Title'].split(' '))\n",
    "        for j in corpus_row[i]:\n",
    "            s.add(j)\n",
    "    uniq_word = list(s)\n",
    "    uniq_word.sort()\n",
    "    return uniq_word\n",
    "\n",
    "# to calculate term frequesncy for each document \n",
    "def getTf(corpus_row):\n",
    "    for i in range (0,N):\n",
    "        list_row = corpus_row[i]\n",
    "        dic_row = {}\n",
    "        for i in list_row :\n",
    "            if i in dic_row.keys():\n",
    "                dic_row[i] += 1\n",
    "            else:\n",
    "                dic_row[i]=1\n",
    "        tf_row.append(dic_row)\n",
    "\n",
    "# to calculate df in number of dcoument\n",
    "def getDf(corpus_row):\n",
    "    for i in range(0,N):\n",
    "        for j in uniq_word:\n",
    "            if j in corpus_row[i]:\n",
    "                if j in df_row.keys():\n",
    "                    df_row[j] += 1\n",
    "                else:\n",
    "                    df_row[j]=1\n",
    "\n",
    "def getTfIdf(corpus_row):\n",
    "    for i in tf_row:\n",
    "        dic = i;\n",
    "        temp = {}\n",
    "        for key in dic.keys():\n",
    "            temp[key] = dic[key]*(math.log(N/df_row[key]))\n",
    "        tf_idf.append(temp)\n",
    "    #print tf_idf\n",
    "    \n",
    "def getDistance(a,b):\n",
    "    distance = 0;\n",
    "    setA = set(a.keys())\n",
    "    setB = set(b.keys())\n",
    "    setAnB = setA & setB\n",
    "    for x in setAnB:\n",
    "        distance = distance + pow(a[x]-b[x],2)\n",
    "    distance = math.sqrt(distance)\n",
    "    return distance\n",
    "\n",
    "\n",
    "def setNeighbour(testSet,trainRow,k):\n",
    "    distance = [];\n",
    "    cal_dis = 0\n",
    "    for x in range(0,len(trainRow)):\n",
    "        dic = {}\n",
    "        cal_dist = getDistance(testSet['tf'],trainRow[x]['tf'])\n",
    "        dic = {cal_dist:trainRow[x]['Tag1']}\n",
    "        distance.append(dic)\n",
    "    distance = sorted(distance,reverse=True,key=(lambda x: x.keys()[0]))\n",
    "    k_neighbour = []\n",
    "    for i in range(0,k):\n",
    "        k_neighbour.append(distance[i].values()[0])\n",
    "    return k_neighbour\n",
    "    \n",
    "def getPrediction(k_neighbour):\n",
    "    dic = {};\n",
    "    for x in k_neighbour:\n",
    "        if x in dic.keys():\n",
    "            dic[x] = dic[x]+1\n",
    "        else:\n",
    "            dic[x] = 1\n",
    "    dic = OrderedDict(sorted(dic.items(),key=lambda x: x[0],reverse=True))\n",
    "    return dic.keys()[0]\n",
    "\n",
    "def getAccuracy(testSet,predict):\n",
    "    accuracy = 0;\n",
    "    for x in range(0,len(testSet)):\n",
    "        if testSet[x] == predict[x]:\n",
    "            accuracy = accuracy + 1\n",
    "    if accuracy == 0:\n",
    "        return 0\n",
    "    return accuracy/float(len(testSet))"
   ]
  },
  {
   "cell_type": "code",
   "execution_count": 18,
   "metadata": {
    "collapsed": false
   },
   "outputs": [],
   "source": [
    "uniq_word = calUniqueWord(stack)\n",
    "getTf(corpus_row)"
   ]
  },
  {
   "cell_type": "code",
   "execution_count": 19,
   "metadata": {
    "collapsed": false,
    "scrolled": false
   },
   "outputs": [],
   "source": [
    "getDf(corpus_row)"
   ]
  },
  {
   "cell_type": "code",
   "execution_count": 20,
   "metadata": {
    "collapsed": false
   },
   "outputs": [
    {
     "name": "stdout",
     "output_type": "stream",
     "text": [
      "200\n"
     ]
    }
   ],
   "source": [
    "getTfIdf(corpus_row)\n",
    "print len(tf_idf)"
   ]
  },
  {
   "cell_type": "code",
   "execution_count": 21,
   "metadata": {
    "collapsed": true
   },
   "outputs": [],
   "source": [
    "def incTag(arr):\n",
    "    tag = arr['Tag1']\n",
    "    dic = arr['tf']\n",
    "    val = sorted(dic.values())\n",
    "    val = val[len(dic)-1]\n",
    "    for key in dic.keys() :\n",
    "        if key == tag:\n",
    "            dic[key] = val\n",
    "    return arr['tf']\n",
    "\n",
    "def removeVagueWord(arr):\n",
    "    dic = arr['word_count']\n",
    "    list_vag = ['a','the','and','in','for','of','to','how','i','from','why','is','use','do','you'];\n",
    "    for key in list_vag:\n",
    "        if key in dic.keys():\n",
    "            del dic[key]\n",
    "    return arr['word_count']"
   ]
  },
  {
   "cell_type": "code",
   "execution_count": 141,
   "metadata": {
    "collapsed": false
   },
   "outputs": [],
   "source": [
    "# stack['word_count'] = gl.text_analytics.count_words(stack['Title'])\n",
    "#stack['word_count'] = stack.apply(removeVagueWord)"
   ]
  },
  {
   "cell_type": "code",
   "execution_count": 23,
   "metadata": {
    "collapsed": false
   },
   "outputs": [],
   "source": [
    "stack['tf'] = tf_idf\n",
    "stack['tf'] = stack.apply(incTag)"
   ]
  },
  {
   "cell_type": "code",
   "execution_count": 24,
   "metadata": {
    "collapsed": false
   },
   "outputs": [
    {
     "data": {
      "text/html": [
       "<div style=\"max-height:1000px;max-width:1500px;overflow:auto;\"><table frame=\"box\" rules=\"cols\">\n",
       "    <tr>\n",
       "        <th style=\"padding-left: 1em; padding-right: 1em; text-align: center\">OwnerUserId</th>\n",
       "        <th style=\"padding-left: 1em; padding-right: 1em; text-align: center\">Title</th>\n",
       "        <th style=\"padding-left: 1em; padding-right: 1em; text-align: center\">Tag1</th>\n",
       "        <th style=\"padding-left: 1em; padding-right: 1em; text-align: center\">tf</th>\n",
       "    </tr>\n",
       "    <tr>\n",
       "        <td style=\"padding-left: 1em; padding-right: 1em; text-align: center; vertical-align: top\">9</td>\n",
       "        <td style=\"padding-left: 1em; padding-right: 1em; text-align: center; vertical-align: top\">Percentage width child in<br>absolutely positioned ...</td>\n",
       "        <td style=\"padding-left: 1em; padding-right: 1em; text-align: center; vertical-align: top\">html</td>\n",
       "        <td style=\"padding-left: 1em; padding-right: 1em; text-align: center; vertical-align: top\">{\"doesn't\":<br>4.605170185988092, 'in': ...</td>\n",
       "    </tr>\n",
       "    <tr>\n",
       "        <td style=\"padding-left: 1em; padding-right: 1em; text-align: center; vertical-align: top\">9</td>\n",
       "        <td style=\"padding-left: 1em; padding-right: 1em; text-align: center; vertical-align: top\">Tools for porting J# code<br>to C# ...</td>\n",
       "        <td style=\"padding-left: 1em; padding-right: 1em; text-align: center; vertical-align: top\">j#</td>\n",
       "        <td style=\"padding-left: 1em; padding-right: 1em; text-align: center; vertical-align: top\">{'code':<br>3.912023005428146, 'f ...</td>\n",
       "    </tr>\n",
       "    <tr>\n",
       "        <td style=\"padding-left: 1em; padding-right: 1em; text-align: center; vertical-align: top\">1</td>\n",
       "        <td style=\"padding-left: 1em; padding-right: 1em; text-align: center; vertical-align: top\">How do I calculate<br>someone's age in c#? ...</td>\n",
       "        <td style=\"padding-left: 1em; padding-right: 1em; text-align: center; vertical-align: top\">c#</td>\n",
       "        <td style=\"padding-left: 1em; padding-right: 1em; text-align: center; vertical-align: top\">{'do': 1.791759469228055,<br>'c#?': 4.605170185988 ...</td>\n",
       "    </tr>\n",
       "    <tr>\n",
       "        <td style=\"padding-left: 1em; padding-right: 1em; text-align: center; vertical-align: top\">1021610</td>\n",
       "        <td style=\"padding-left: 1em; padding-right: 1em; text-align: center; vertical-align: top\">retrieve data from<br>NSUserDefaults to ...</td>\n",
       "        <td style=\"padding-left: 1em; padding-right: 1em; text-align: center; vertical-align: top\">iphone</td>\n",
       "        <td style=\"padding-left: 1em; padding-right: 1em; text-align: center; vertical-align: top\">{'retrieve':<br>5.298317366548036, ...</td>\n",
       "    </tr>\n",
       "    <tr>\n",
       "        <td style=\"padding-left: 1em; padding-right: 1em; text-align: center; vertical-align: top\">33</td>\n",
       "        <td style=\"padding-left: 1em; padding-right: 1em; text-align: center; vertical-align: top\">Reliable Timer in a<br>Console Application ...</td>\n",
       "        <td style=\"padding-left: 1em; padding-right: 1em; text-align: center; vertical-align: top\">c#</td>\n",
       "        <td style=\"padding-left: 1em; padding-right: 1em; text-align: center; vertical-align: top\">{'a': 1.3862943611198906,<br>'Console': ...</td>\n",
       "    </tr>\n",
       "    <tr>\n",
       "        <td style=\"padding-left: 1em; padding-right: 1em; text-align: center; vertical-align: top\">48</td>\n",
       "        <td style=\"padding-left: 1em; padding-right: 1em; text-align: center; vertical-align: top\">Latest information on PHP<br>upcoming releases ...</td>\n",
       "        <td style=\"padding-left: 1em; padding-right: 1em; text-align: center; vertical-align: top\">php</td>\n",
       "        <td style=\"padding-left: 1em; padding-right: 1em; text-align: center; vertical-align: top\">{'information':<br>5.298317366548036, ...</td>\n",
       "    </tr>\n",
       "    <tr>\n",
       "        <td style=\"padding-left: 1em; padding-right: 1em; text-align: center; vertical-align: top\">22</td>\n",
       "        <td style=\"padding-left: 1em; padding-right: 1em; text-align: center; vertical-align: top\">Throw Error In MySQL<br>Trigger ...</td>\n",
       "        <td style=\"padding-left: 1em; padding-right: 1em; text-align: center; vertical-align: top\">mysql</td>\n",
       "        <td style=\"padding-left: 1em; padding-right: 1em; text-align: center; vertical-align: top\">{'Error':<br>5.298317366548036, ...</td>\n",
       "    </tr>\n",
       "    <tr>\n",
       "        <td style=\"padding-left: 1em; padding-right: 1em; text-align: center; vertical-align: top\">23</td>\n",
       "        <td style=\"padding-left: 1em; padding-right: 1em; text-align: center; vertical-align: top\">How to use the C socket<br>API in C++ ...</td>\n",
       "        <td style=\"padding-left: 1em; padding-right: 1em; text-align: center; vertical-align: top\">c++</td>\n",
       "        <td style=\"padding-left: 1em; padding-right: 1em; text-align: center; vertical-align: top\">{'C': 5.298317366548036,<br>'socket': ...</td>\n",
       "    </tr>\n",
       "    <tr>\n",
       "        <td style=\"padding-left: 1em; padding-right: 1em; text-align: center; vertical-align: top\">1</td>\n",
       "        <td style=\"padding-left: 1em; padding-right: 1em; text-align: center; vertical-align: top\">How do I calculate<br>relative time? ...</td>\n",
       "        <td style=\"padding-left: 1em; padding-right: 1em; text-align: center; vertical-align: top\">c#</td>\n",
       "        <td style=\"padding-left: 1em; padding-right: 1em; text-align: center; vertical-align: top\">{'do': 1.791759469228055,<br>'time?': ...</td>\n",
       "    </tr>\n",
       "    <tr>\n",
       "        <td style=\"padding-left: 1em; padding-right: 1em; text-align: center; vertical-align: top\">9</td>\n",
       "        <td style=\"padding-left: 1em; padding-right: 1em; text-align: center; vertical-align: top\">Determining web user's<br>time zone ...</td>\n",
       "        <td style=\"padding-left: 1em; padding-right: 1em; text-align: center; vertical-align: top\">html</td>\n",
       "        <td style=\"padding-left: 1em; padding-right: 1em; text-align: center; vertical-align: top\">{'Determining':<br>5.298317366548036, ...</td>\n",
       "    </tr>\n",
       "</table>\n",
       "[10 rows x 4 columns]<br/>\n",
       "</div>"
      ],
      "text/plain": [
       "Columns:\n",
       "\tOwnerUserId\tint\n",
       "\tTitle\tstr\n",
       "\tTag1\tstr\n",
       "\ttf\tdict\n",
       "\n",
       "Rows: 10\n",
       "\n",
       "Data:\n",
       "+-------------+-------------------------------+--------+\n",
       "| OwnerUserId |             Title             |  Tag1  |\n",
       "+-------------+-------------------------------+--------+\n",
       "|      9      | Percentage width child in ... |  html  |\n",
       "|      9      | Tools for porting J# code ... |   j#   |\n",
       "|      1      | How do I calculate someone... |   c#   |\n",
       "|   1021610   | retrieve data from NSUserD... | iphone |\n",
       "|      33     | Reliable Timer in a Consol... |   c#   |\n",
       "|      48     | Latest information on PHP ... |  php   |\n",
       "|      22     |  Throw Error In MySQL Trigger | mysql  |\n",
       "|      23     | How to use the C socket AP... |  c++   |\n",
       "|      1      | How do I calculate relativ... |   c#   |\n",
       "|      9      | Determining web user's tim... |  html  |\n",
       "+-------------+-------------------------------+--------+\n",
       "+-------------------------------+\n",
       "|               tf              |\n",
       "+-------------------------------+\n",
       "| {\"doesn't\": 4.605170185988... |\n",
       "| {'code': 3.912023005428146... |\n",
       "| {'do': 1.791759469228055, ... |\n",
       "| {'retrieve': 5.29831736654... |\n",
       "| {'a': 1.3862943611198906, ... |\n",
       "| {'information': 5.29831736... |\n",
       "| {'Error': 5.29831736654803... |\n",
       "| {'C': 5.298317366548036, '... |\n",
       "| {'do': 1.791759469228055, ... |\n",
       "| {'Determining': 5.29831736... |\n",
       "+-------------------------------+\n",
       "[10 rows x 4 columns]"
      ]
     },
     "execution_count": 24,
     "metadata": {},
     "output_type": "execute_result"
    }
   ],
   "source": [
    "train , test = stack.random_split(.9,.1)\n",
    "train.head()"
   ]
  },
  {
   "cell_type": "code",
   "execution_count": 25,
   "metadata": {
    "collapsed": false
   },
   "outputs": [],
   "source": [
    "train_nw = gl.SFrame({'Tag1': train['Tag1'],\n",
    "                      'tf': train['tf']})\n",
    "test_nw = gl.SFrame({'Tag1': test['Tag1'],\n",
    "                      'tf': test['tf']})"
   ]
  },
  {
   "cell_type": "code",
   "execution_count": 26,
   "metadata": {
    "collapsed": false
   },
   "outputs": [],
   "source": [
    "# result will store the label predicted by the KNN model\n",
    "result = []\n",
    "for x in range(0,len(test_nw)):\n",
    "    result.append(getPrediction(setNeighbour(test_nw[x],train_nw,10)))"
   ]
  },
  {
   "cell_type": "code",
   "execution_count": 27,
   "metadata": {
    "collapsed": false
   },
   "outputs": [
    {
     "data": {
      "text/plain": [
       "0.11764705882352941"
      ]
     },
     "execution_count": 27,
     "metadata": {},
     "output_type": "execute_result"
    }
   ],
   "source": [
    "# KNN evaludating model to calculate accuracy\n",
    "getAccuracy(result,test_nw['Tag1'])"
   ]
  },
  {
   "cell_type": "code",
   "execution_count": 21,
   "metadata": {
    "collapsed": false
   },
   "outputs": [
    {
     "data": {
      "text/html": [
       "<pre>Starting brute force nearest neighbors model training.</pre>"
      ],
      "text/plain": [
       "Starting brute force nearest neighbors model training."
      ]
     },
     "metadata": {},
     "output_type": "display_data"
    }
   ],
   "source": [
    "## graphlab function to create KNN classifier\n",
    "kmm_model = gl.nearest_neighbor_classifier.create(train_nw,target='Tag1',features=['tf'])"
   ]
  },
  {
   "cell_type": "code",
   "execution_count": 103,
   "metadata": {
    "collapsed": false
   },
   "outputs": [
    {
     "data": {
      "text/html": [
       "<pre>Starting pairwise querying.</pre>"
      ],
      "text/plain": [
       "Starting pairwise querying."
      ]
     },
     "metadata": {},
     "output_type": "display_data"
    },
    {
     "data": {
      "text/html": [
       "<pre>+--------------+---------+-------------+--------------+</pre>"
      ],
      "text/plain": [
       "+--------------+---------+-------------+--------------+"
      ]
     },
     "metadata": {},
     "output_type": "display_data"
    },
    {
     "data": {
      "text/html": [
       "<pre>| Query points | # Pairs | % Complete. | Elapsed Time |</pre>"
      ],
      "text/plain": [
       "| Query points | # Pairs | % Complete. | Elapsed Time |"
      ]
     },
     "metadata": {},
     "output_type": "display_data"
    },
    {
     "data": {
      "text/html": [
       "<pre>+--------------+---------+-------------+--------------+</pre>"
      ],
      "text/plain": [
       "+--------------+---------+-------------+--------------+"
      ]
     },
     "metadata": {},
     "output_type": "display_data"
    },
    {
     "data": {
      "text/html": [
       "<pre>| 0            | 17      | 0.546448    | 930us        |</pre>"
      ],
      "text/plain": [
       "| 0            | 17      | 0.546448    | 930us        |"
      ]
     },
     "metadata": {},
     "output_type": "display_data"
    },
    {
     "data": {
      "text/html": [
       "<pre>| Done         |         | 100         | 2.295ms      |</pre>"
      ],
      "text/plain": [
       "| Done         |         | 100         | 2.295ms      |"
      ]
     },
     "metadata": {},
     "output_type": "display_data"
    },
    {
     "data": {
      "text/html": [
       "<pre>+--------------+---------+-------------+--------------+</pre>"
      ],
      "text/plain": [
       "+--------------+---------+-------------+--------------+"
      ]
     },
     "metadata": {},
     "output_type": "display_data"
    },
    {
     "data": {
      "text/html": [
       "<pre>Starting pairwise querying.</pre>"
      ],
      "text/plain": [
       "Starting pairwise querying."
      ]
     },
     "metadata": {},
     "output_type": "display_data"
    },
    {
     "data": {
      "text/html": [
       "<pre>+--------------+---------+-------------+--------------+</pre>"
      ],
      "text/plain": [
       "+--------------+---------+-------------+--------------+"
      ]
     },
     "metadata": {},
     "output_type": "display_data"
    },
    {
     "data": {
      "text/html": [
       "<pre>| Query points | # Pairs | % Complete. | Elapsed Time |</pre>"
      ],
      "text/plain": [
       "| Query points | # Pairs | % Complete. | Elapsed Time |"
      ]
     },
     "metadata": {},
     "output_type": "display_data"
    },
    {
     "data": {
      "text/html": [
       "<pre>+--------------+---------+-------------+--------------+</pre>"
      ],
      "text/plain": [
       "+--------------+---------+-------------+--------------+"
      ]
     },
     "metadata": {},
     "output_type": "display_data"
    },
    {
     "data": {
      "text/html": [
       "<pre>| 0            | 17      | 0.546448    | 504us        |</pre>"
      ],
      "text/plain": [
       "| 0            | 17      | 0.546448    | 504us        |"
      ]
     },
     "metadata": {},
     "output_type": "display_data"
    },
    {
     "data": {
      "text/html": [
       "<pre>| Done         |         | 100         | 1.043ms      |</pre>"
      ],
      "text/plain": [
       "| Done         |         | 100         | 1.043ms      |"
      ]
     },
     "metadata": {},
     "output_type": "display_data"
    },
    {
     "data": {
      "text/html": [
       "<pre>+--------------+---------+-------------+--------------+</pre>"
      ],
      "text/plain": [
       "+--------------+---------+-------------+--------------+"
      ]
     },
     "metadata": {},
     "output_type": "display_data"
    },
    {
     "name": "stdout",
     "output_type": "stream",
     "text": [
      "WARNING: Ignoring `roc_curve`. Not supported for multi-class classification.\n"
     ]
    }
   ],
   "source": [
    "## graphlab function to evaluate KNN classifier\n",
    "ans = kmm_model.evaluate(test_nw,max_neighbors=20,metric='accuracy')\n",
    "print ans"
   ]
  }
 ],
 "metadata": {
  "kernelspec": {
   "display_name": "Python 2",
   "language": "python",
   "name": "python2"
  },
  "language_info": {
   "codemirror_mode": {
    "name": "ipython",
    "version": 2
   },
   "file_extension": ".py",
   "mimetype": "text/x-python",
   "name": "python",
   "nbconvert_exporter": "python",
   "pygments_lexer": "ipython2",
   "version": "2.7.11"
  }
 },
 "nbformat": 4,
 "nbformat_minor": 0
}
