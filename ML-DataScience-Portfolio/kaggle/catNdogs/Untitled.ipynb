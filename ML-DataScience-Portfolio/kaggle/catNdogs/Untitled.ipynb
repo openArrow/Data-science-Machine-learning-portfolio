{
 "cells": [
  {
   "cell_type": "code",
   "execution_count": 1,
   "metadata": {
    "collapsed": false
   },
   "outputs": [
    {
     "name": "stderr",
     "output_type": "stream",
     "text": [
      "Using TensorFlow backend.\n"
     ]
    }
   ],
   "source": [
    "import os, cv2, random\n",
    "import numpy as np\n",
    "import pandas as pd\n",
    "\n",
    "\n",
    "from keras.models import Sequential\n",
    "from keras.layers import Input, Dropout, Flatten, Convolution2D, MaxPooling2D, Dense, Activation\n",
    "from keras.optimizers import RMSprop\n",
    "from keras.callbacks import ModelCheckpoint, Callback, EarlyStopping\n",
    "from keras.utils import np_utils\n"
   ]
  },
  {
   "cell_type": "code",
   "execution_count": 118,
   "metadata": {
    "collapsed": false
   },
   "outputs": [],
   "source": [
    "TRAIN_DIR = './train/'\n",
    "TEST_DIR = './test/'\n",
    "\n",
    "ROWS = 128\n",
    "COLS = 128\n",
    "CHANNELS = 3\n",
    "\n",
    "train_images = [TRAIN_DIR+i for i in os.listdir(TRAIN_DIR)] # use this for full dataset\n",
    "train_dogs =   [TRAIN_DIR+i for i in os.listdir(TRAIN_DIR) if 'dog' in i]\n",
    "train_cats =   [TRAIN_DIR+i for i in os.listdir(TRAIN_DIR) if 'cat' in i]\n",
    "\n",
    "test_images =  [TEST_DIR+i for i in os.listdir(TEST_DIR)]\n",
    "\n",
    "train_images = train_dogs[:1000] + train_cats[:1000]\n",
    "random.shuffle(train_images)\n",
    "test_images =  test_images[:25]"
   ]
  },
  {
   "cell_type": "code",
   "execution_count": 119,
   "metadata": {
    "collapsed": false
   },
   "outputs": [
    {
     "name": "stdout",
     "output_type": "stream",
     "text": [
      "Processed 0 of 2000\n",
      "Processed 250 of 2000\n",
      "Processed 500 of 2000\n",
      "Processed 750 of 2000\n",
      "Processed 1000 of 2000\n",
      "Processed 1250 of 2000\n",
      "Processed 1500 of 2000\n",
      "Processed 1750 of 2000\n",
      "Processed 0 of 25\n",
      "Train shape: (2000, 3, 128, 128)\n",
      "Test shape: (25, 3, 128, 128)\n"
     ]
    }
   ],
   "source": [
    "def read_image(file_path):\n",
    "    img = cv2.imread(file_path, cv2.IMREAD_COLOR) #cv2.IMREAD_GRAYSCALE\n",
    "    return cv2.resize(img, (ROWS, COLS), interpolation=cv2.INTER_CUBIC)\n",
    "\n",
    "\n",
    "def prep_data(images):\n",
    "    count = len(images)\n",
    "    data = np.ndarray((count, CHANNELS, ROWS, COLS), dtype=np.uint8)\n",
    "\n",
    "    for i, image_file in enumerate(images):\n",
    "        image = read_image(image_file)\n",
    "        data[i] = image.T\n",
    "        if i%250 == 0: print('Processed {} of {}'.format(i, count))\n",
    "    \n",
    "    return data\n",
    "\n",
    "train = prep_data(train_images)\n",
    "test = prep_data(test_images)\n",
    "\n",
    "print(\"Train shape: {}\".format(train.shape))\n",
    "print(\"Test shape: {}\".format(test.shape))"
   ]
  },
  {
   "cell_type": "code",
   "execution_count": 121,
   "metadata": {
    "collapsed": false
   },
   "outputs": [],
   "source": [
    "labels = []\n",
    "for i in train_images:\n",
    "    if 'dog' in i:\n",
    "        labels.append(1)\n",
    "    else:\n",
    "        labels.append(0)\n"
   ]
  },
  {
   "cell_type": "code",
   "execution_count": 44,
   "metadata": {
    "collapsed": false
   },
   "outputs": [],
   "source": [
    "optimizer = RMSprop(lr=1e-4)\n",
    "objective = 'binary_crossentropy'\n",
    "\n",
    "\n",
    "def catdog():\n",
    "    \n",
    "    model = Sequential()\n",
    "\n",
    "    model.add(Convolution2D(32, 3, 3, border_mode='same', input_shape=(3, ROWS, COLS), activation='relu'))\n",
    "    model.add(Convolution2D(32, 3, 3, border_mode='same', activation='relu'))\n",
    "    #model.add(MaxPooling2D(pool_size=(2, 2)))\n",
    "    model.add(MaxPooling2D(pool_size=(2, 2),dim_ordering=\"th\"))\n",
    "\n",
    "\n",
    "    model.add(Convolution2D(64, 3, 3, border_mode='same', activation='relu'))\n",
    "    model.add(Convolution2D(64, 3, 3, border_mode='same', activation='relu'))\n",
    "    #model.add(MaxPooling2D(pool_size=(2, 2)))\n",
    "\n",
    "\n",
    "    model.add(MaxPooling2D(pool_size=(2, 2),dim_ordering=\"th\"))\n",
    "    \n",
    "    model.add(Convolution2D(128, 3, 3, border_mode='same', activation='relu'))\n",
    "    model.add(Convolution2D(128, 3, 3, border_mode='same', activation='relu'))\n",
    "    #model.add(MaxPooling2D(pool_size=(2, 2)))\n",
    "\n",
    "\n",
    "    model.add(MaxPooling2D(pool_size=(2, 2),dim_ordering=\"th\"))\n",
    "\n",
    "    \n",
    "    model.add(Convolution2D(256, 3, 3, border_mode='same', activation='relu'))\n",
    "    model.add(Convolution2D(256, 3, 3, border_mode='same', activation='relu'))\n",
    "#     model.add(Convolution2D(256, 3, 3, border_mode='same', activation='relu'))\n",
    "    #model.add(MaxPooling2D(pool_size=(2, 2)))\n",
    "\n",
    "\n",
    "    model.add(MaxPooling2D(pool_size=(2, 2),dim_ordering=\"th\"))\n",
    "\n",
    "\n",
    "#     model.add(Convolution2D(256, 3, 3, border_mode='same', activation='relu'))\n",
    "#     model.add(Convolution2D(256, 3, 3, border_mode='same', activation='relu'))\n",
    "#     model.add(Convolution2D(256, 3, 3, border_mode='same', activation='relu'))\n",
    "#     model.add(MaxPooling2D(pool_size=(2, 2)))\n",
    "\n",
    "    model.add(Flatten())\n",
    "    model.add(Dense(256, activation='relu'))\n",
    "    model.add(Dropout(0.5))\n",
    "    \n",
    "    model.add(Dense(256, activation='relu'))\n",
    "    model.add(Dropout(0.5))\n",
    "\n",
    "    model.add(Dense(1))\n",
    "    model.add(Activation('sigmoid'))\n",
    "\n",
    "    model.compile(loss=objective, optimizer=optimizer, metrics=['accuracy'])\n",
    "    return model\n",
    "\n",
    "\n",
    "model = catdog()"
   ]
  },
  {
   "cell_type": "code",
   "execution_count": 131,
   "metadata": {
    "collapsed": false
   },
   "outputs": [],
   "source": [
    "nb_epoch = 10\n",
    "batch_size = 16\n",
    "\n",
    "## Callback for loss logging per epoch\n",
    "class LossHistory(Callback):\n",
    "    def on_train_begin(self, logs={}):\n",
    "        self.losses = []\n",
    "        self.val_losses = []\n",
    "        \n",
    "    def on_epoch_end(self, batch, logs={}):\n",
    "        self.losses.append(logs.get('loss'))\n",
    "        self.val_losses.append(logs.get('val_loss'))\n",
    "\n",
    "early_stopping = EarlyStopping(monitor='val_loss', patience=3, verbose=1, mode='auto')        \n",
    "        \n",
    "def run_catdog():\n",
    "    \n",
    "    history = LossHistory()\n",
    "    model1.fit(train, labels, batch_size=batch_size, nb_epoch=nb_epoch,\n",
    "              validation_split=0.25, verbose=0, shuffle=True, callbacks=[history, early_stopping])\n",
    "    \n",
    "\n",
    "    predictions = model1.predict(test, verbose=0)\n",
    "    return predictions, history\n",
    "\n",
    "#predictions, history = run_catdog()"
   ]
  },
  {
   "cell_type": "code",
   "execution_count": 48,
   "metadata": {
    "collapsed": false
   },
   "outputs": [],
   "source": [
    "predict = model.predict(test)"
   ]
  },
  {
   "cell_type": "code",
   "execution_count": 51,
   "metadata": {
    "collapsed": false
   },
   "outputs": [
    {
     "data": {
      "text/plain": [
       "12500"
      ]
     },
     "execution_count": 51,
     "metadata": {},
     "output_type": "execute_result"
    }
   ],
   "source": [
    "len(predict)"
   ]
  },
  {
   "cell_type": "code",
   "execution_count": 52,
   "metadata": {
    "collapsed": false
   },
   "outputs": [
    {
     "name": "stdout",
     "output_type": "stream",
     "text": [
      "I am 63.69% sure this is a Cat\n",
      "I am 74.30% sure this is a Cat\n",
      "I am 67.78% sure this is a Cat\n",
      "I am 60.15% sure this is a Cat\n",
      "I am 71.37% sure this is a Dog\n",
      "I am 88.11% sure this is a Cat\n",
      "I am 63.69% sure this is a Cat\n",
      "I am 91.66% sure this is a Dog\n",
      "I am 70.48% sure this is a Dog\n",
      "I am 72.88% sure this is a Cat\n",
      "I am 68.06% sure this is a Dog\n",
      "I am 81.58% sure this is a Cat\n",
      "I am 66.21% sure this is a Cat\n",
      "I am 73.76% sure this is a Dog\n",
      "I am 77.57% sure this is a Dog\n",
      "I am 97.04% sure this is a Dog\n",
      "I am 89.83% sure this is a Dog\n",
      "I am 72.43% sure this is a Cat\n",
      "I am 64.69% sure this is a Dog\n",
      "I am 71.11% sure this is a Cat\n",
      "I am 58.52% sure this is a Dog\n",
      "I am 62.99% sure this is a Dog\n",
      "I am 74.97% sure this is a Cat\n",
      "I am 73.56% sure this is a Cat\n",
      "I am 58.62% sure this is a Dog\n",
      "I am 69.71% sure this is a Dog\n",
      "I am 78.35% sure this is a Cat\n",
      "I am 82.81% sure this is a Cat\n",
      "I am 83.32% sure this is a Dog\n",
      "I am 89.48% sure this is a Dog\n",
      "I am 60.62% sure this is a Cat\n",
      "I am 55.47% sure this is a Cat\n",
      "I am 52.24% sure this is a Cat\n",
      "I am 72.95% sure this is a Dog\n",
      "I am 79.64% sure this is a Cat\n",
      "I am 51.40% sure this is a Dog\n",
      "I am 72.33% sure this is a Dog\n",
      "I am 99.97% sure this is a Dog\n",
      "I am 58.49% sure this is a Dog\n",
      "I am 72.25% sure this is a Cat\n",
      "I am 64.36% sure this is a Cat\n",
      "I am 69.03% sure this is a Cat\n",
      "I am 59.70% sure this is a Cat\n",
      "I am 99.65% sure this is a Dog\n",
      "I am 64.79% sure this is a Cat\n",
      "I am 68.02% sure this is a Dog\n",
      "I am 86.04% sure this is a Dog\n",
      "I am 88.82% sure this is a Dog\n",
      "I am 59.37% sure this is a Cat\n",
      "I am 83.21% sure this is a Dog\n",
      "I am 65.21% sure this is a Cat\n",
      "I am 62.10% sure this is a Cat\n",
      "I am 71.14% sure this is a Cat\n",
      "I am 66.28% sure this is a Dog\n",
      "I am 56.22% sure this is a Cat\n",
      "I am 88.07% sure this is a Dog\n",
      "I am 84.29% sure this is a Dog\n",
      "I am 55.20% sure this is a Cat\n",
      "I am 64.80% sure this is a Cat\n",
      "I am 56.54% sure this is a Cat\n",
      "I am 63.70% sure this is a Cat\n",
      "I am 57.91% sure this is a Cat\n",
      "I am 50.16% sure this is a Dog\n",
      "I am 64.94% sure this is a Cat\n",
      "I am 86.26% sure this is a Cat\n",
      "I am 66.77% sure this is a Dog\n",
      "I am 55.40% sure this is a Cat\n",
      "I am 56.07% sure this is a Dog\n",
      "I am 59.68% sure this is a Cat\n",
      "I am 90.72% sure this is a Dog\n",
      "I am 57.12% sure this is a Cat\n",
      "I am 64.88% sure this is a Cat\n",
      "I am 70.31% sure this is a Dog\n",
      "I am 84.33% sure this is a Dog\n",
      "I am 75.48% sure this is a Dog\n",
      "I am 73.82% sure this is a Cat\n",
      "I am 57.15% sure this is a Cat\n",
      "I am 64.20% sure this is a Cat\n",
      "I am 87.48% sure this is a Cat\n",
      "I am 63.99% sure this is a Cat\n",
      "I am 97.85% sure this is a Dog\n",
      "I am 55.93% sure this is a Dog\n",
      "I am 61.65% sure this is a Cat\n",
      "I am 71.34% sure this is a Cat\n",
      "I am 52.32% sure this is a Dog\n",
      "I am 79.30% sure this is a Cat\n",
      "I am 55.62% sure this is a Dog\n",
      "I am 86.80% sure this is a Dog\n",
      "I am 62.95% sure this is a Cat\n",
      "I am 68.57% sure this is a Dog\n",
      "I am 72.61% sure this is a Cat\n",
      "I am 72.62% sure this is a Cat\n",
      "I am 54.12% sure this is a Cat\n",
      "I am 70.25% sure this is a Dog\n",
      "I am 53.57% sure this is a Dog\n",
      "I am 67.67% sure this is a Cat\n",
      "I am 97.16% sure this is a Dog\n",
      "I am 96.72% sure this is a Dog\n",
      "I am 68.74% sure this is a Dog\n",
      "I am 63.86% sure this is a Dog\n"
     ]
    }
   ],
   "source": [
    "for i in range(0,100):\n",
    "    if predict[i, 0] >= 0.5: \n",
    "        print('I am {:.2%} sure this is a Dog'.format(predict[i][0]))\n",
    "    else: \n",
    "        print('I am {:.2%} sure this is a Cat'.format(1-predict[i][0]))"
   ]
  },
  {
   "cell_type": "code",
   "execution_count": 132,
   "metadata": {
    "collapsed": true
   },
   "outputs": [],
   "source": [
    "from keras.models import Sequential\n",
    "from keras.layers.core import Flatten, Dense, Dropout\n",
    "from keras.layers.convolutional import Convolution2D, MaxPooling2D, ZeroPadding2D\n",
    "from keras.optimizers import SGD\n",
    "def VGG_16(weights_path=None):\n",
    "    model = Sequential()\n",
    "    model.add(Convolution2D(64, 3, 3, border_mode='same', input_shape=(3, ROWS, COLS), activation='relu'))\n",
    "    model.add(Convolution2D(64, 3, 3, border_mode='same',  activation='relu'))\n",
    "    model.add(MaxPooling2D((2,2), strides=(2,2), dim_ordering=\"th\"))\n",
    "\n",
    "    model.add(Convolution2D(128, 3, 3,  border_mode='same', activation='relu'))\n",
    "    model.add(Convolution2D(128, 3, 3,  border_mode='same', activation='relu'))\n",
    "    model.add(MaxPooling2D((2,2), strides=(2,2), dim_ordering=\"th\"))\n",
    "\n",
    "\n",
    "    model.add(Convolution2D(256, 3, 3, border_mode='same', activation='relu'))\n",
    "    model.add(Convolution2D(256, 3, 3,  border_mode='same', activation='relu'))\n",
    "    model.add(Convolution2D(256, 3, 3,  border_mode='same', activation='relu'))\n",
    "    model.add(MaxPooling2D((2,2), strides=(2,2), dim_ordering=\"th\"))\n",
    "\n",
    "\n",
    "    model.add(Convolution2D(512, 3, 3,  border_mode='same',activation='relu'))\n",
    "    model.add(Convolution2D(512, 3, 3,  border_mode='same', activation='relu'))\n",
    "    model.add(Convolution2D(512, 3, 3,  border_mode='same', activation='relu'))\n",
    "    model.add(MaxPooling2D((2,2), strides=(2,2), dim_ordering=\"th\"))\n",
    "\n",
    "\n",
    "    model.add(Convolution2D(512, 3, 3,  border_mode='same', activation='relu'))\n",
    "    model.add(Convolution2D(512, 3, 3,  border_mode='same', activation='relu'))\n",
    "    model.add(Convolution2D(512, 3, 3,  border_mode='same', activation='relu'))\n",
    "    model.add(MaxPooling2D((2,2), strides=(2,2), dim_ordering=\"th\"))\n",
    "\n",
    "\n",
    "    model.add(Flatten())\n",
    "    model.add(Dense(4096, activation='relu'))\n",
    "    model.add(Dropout(0.5))\n",
    "    model.add(Dense(4096, activation='relu'))\n",
    "    model.add(Dropout(0.5))\n",
    "    model.add(Dense(1, activation='softmax'))\n",
    "    #sgd = SGD(lr=0.1, decay=1e-6, momentum=0.9, nesterov=True)\n",
    "    sgd = RMSprop(lr=1e-4)\n",
    "    model.compile(optimizer=sgd, loss='binary_crossentropy')\n",
    "    if weights_path:\n",
    "        model.load_weights(weights_path)\n",
    "\n",
    "    return model"
   ]
  },
  {
   "cell_type": "code",
   "execution_count": 133,
   "metadata": {
    "collapsed": false
   },
   "outputs": [
    {
     "name": "stdout",
     "output_type": "stream",
     "text": [
      "Epoch 00004: early stopping\n"
     ]
    }
   ],
   "source": [
    "model1 = VGG_16()\n",
    "predictions, history = run_catdog()\n"
   ]
  },
  {
   "cell_type": "code",
   "execution_count": 130,
   "metadata": {
    "collapsed": false
   },
   "outputs": [
    {
     "data": {
      "text/plain": [
       "25"
      ]
     },
     "execution_count": 130,
     "metadata": {},
     "output_type": "execute_result"
    }
   ],
   "source": [
    "len(predictions[predictions>0.5])"
   ]
  },
  {
   "cell_type": "code",
   "execution_count": 117,
   "metadata": {
    "collapsed": false
   },
   "outputs": [
    {
     "name": "stdout",
     "output_type": "stream",
     "text": [
      "I am 100.00% sure this is a Dog\n",
      "I am 100.00% sure this is a Dog\n",
      "I am 100.00% sure this is a Dog\n",
      "I am 100.00% sure this is a Dog\n",
      "I am 100.00% sure this is a Dog\n",
      "I am 100.00% sure this is a Dog\n",
      "I am 100.00% sure this is a Dog\n",
      "I am 100.00% sure this is a Dog\n",
      "I am 100.00% sure this is a Dog\n",
      "I am 100.00% sure this is a Dog\n",
      "I am 100.00% sure this is a Dog\n",
      "I am 100.00% sure this is a Dog\n",
      "I am 100.00% sure this is a Dog\n",
      "I am 100.00% sure this is a Dog\n",
      "I am 100.00% sure this is a Dog\n",
      "I am 100.00% sure this is a Dog\n",
      "I am 100.00% sure this is a Dog\n",
      "I am 100.00% sure this is a Dog\n",
      "I am 100.00% sure this is a Dog\n",
      "I am 100.00% sure this is a Dog\n",
      "I am 100.00% sure this is a Dog\n",
      "I am 100.00% sure this is a Dog\n",
      "I am 100.00% sure this is a Dog\n",
      "I am 100.00% sure this is a Dog\n",
      "I am 100.00% sure this is a Dog\n"
     ]
    },
    {
     "ename": "IndexError",
     "evalue": "index 25 is out of bounds for axis 0 with size 25",
     "output_type": "error",
     "traceback": [
      "\u001b[0;31m---------------------------------------------------------------------------\u001b[0m",
      "\u001b[0;31mIndexError\u001b[0m                                Traceback (most recent call last)",
      "\u001b[0;32m<ipython-input-117-8a51c92e02a0>\u001b[0m in \u001b[0;36m<module>\u001b[0;34m()\u001b[0m\n\u001b[1;32m      1\u001b[0m \u001b[0;32mfor\u001b[0m \u001b[0mi\u001b[0m \u001b[0;32min\u001b[0m \u001b[0mrange\u001b[0m\u001b[0;34m(\u001b[0m\u001b[0;36m0\u001b[0m\u001b[0;34m,\u001b[0m\u001b[0;36m1000\u001b[0m\u001b[0;34m)\u001b[0m\u001b[0;34m:\u001b[0m\u001b[0;34m\u001b[0m\u001b[0m\n\u001b[0;32m----> 2\u001b[0;31m     \u001b[0;32mif\u001b[0m \u001b[0mpredictions\u001b[0m\u001b[0;34m[\u001b[0m\u001b[0mi\u001b[0m\u001b[0;34m,\u001b[0m \u001b[0;36m0\u001b[0m\u001b[0;34m]\u001b[0m \u001b[0;34m>=\u001b[0m \u001b[0;36m0.5\u001b[0m\u001b[0;34m:\u001b[0m\u001b[0;34m\u001b[0m\u001b[0m\n\u001b[0m\u001b[1;32m      3\u001b[0m         \u001b[0;32mprint\u001b[0m\u001b[0;34m(\u001b[0m\u001b[0;34m'I am {:.2%} sure this is a Dog'\u001b[0m\u001b[0;34m.\u001b[0m\u001b[0mformat\u001b[0m\u001b[0;34m(\u001b[0m\u001b[0mpredictions\u001b[0m\u001b[0;34m[\u001b[0m\u001b[0mi\u001b[0m\u001b[0;34m]\u001b[0m\u001b[0;34m[\u001b[0m\u001b[0;36m0\u001b[0m\u001b[0;34m]\u001b[0m\u001b[0;34m)\u001b[0m\u001b[0;34m)\u001b[0m\u001b[0;34m\u001b[0m\u001b[0m\n\u001b[1;32m      4\u001b[0m     \u001b[0;32melse\u001b[0m\u001b[0;34m:\u001b[0m\u001b[0;34m\u001b[0m\u001b[0m\n\u001b[1;32m      5\u001b[0m         \u001b[0;32mprint\u001b[0m\u001b[0;34m(\u001b[0m\u001b[0;34m'I am {:.2%} sure this is a Cat'\u001b[0m\u001b[0;34m.\u001b[0m\u001b[0mformat\u001b[0m\u001b[0;34m(\u001b[0m\u001b[0;36m1\u001b[0m\u001b[0;34m-\u001b[0m\u001b[0mpredictions\u001b[0m\u001b[0;34m[\u001b[0m\u001b[0mi\u001b[0m\u001b[0;34m]\u001b[0m\u001b[0;34m[\u001b[0m\u001b[0;36m0\u001b[0m\u001b[0;34m]\u001b[0m\u001b[0;34m)\u001b[0m\u001b[0;34m)\u001b[0m\u001b[0;34m\u001b[0m\u001b[0m\n",
      "\u001b[0;31mIndexError\u001b[0m: index 25 is out of bounds for axis 0 with size 25"
     ]
    }
   ],
   "source": [
    "for i in range(0,1000):\n",
    "    if predictions[i, 0] >= 0.5: \n",
    "        print('I am {:.2%} sure this is a Dog'.format(predictions[i][0]))\n",
    "    else: \n",
    "        print('I am {:.2%} sure this is a Cat'.format(1-predictions[i][0]))\n"
   ]
  },
  {
   "cell_type": "code",
   "execution_count": 110,
   "metadata": {
    "collapsed": false
   },
   "outputs": [
    {
     "data": {
      "text/plain": [
       "array([], dtype=float32)"
      ]
     },
     "execution_count": 110,
     "metadata": {},
     "output_type": "execute_result"
    }
   ],
   "source": [
    "predictions[predictions<0.5]"
   ]
  },
  {
   "cell_type": "code",
   "execution_count": 75,
   "metadata": {
    "collapsed": false
   },
   "outputs": [
    {
     "data": {
      "text/plain": [
       "'./test/10.jpg'"
      ]
     },
     "execution_count": 75,
     "metadata": {},
     "output_type": "execute_result"
    }
   ],
   "source": [
    "test_images[1]"
   ]
  },
  {
   "cell_type": "code",
   "execution_count": 76,
   "metadata": {
    "collapsed": true
   },
   "outputs": [],
   "source": [
    "test_id = [x.split(\"/\")[2].split(\".\")[0] for x in test_images]"
   ]
  },
  {
   "cell_type": "code",
   "execution_count": 83,
   "metadata": {
    "collapsed": false
   },
   "outputs": [
    {
     "ename": "SyntaxError",
     "evalue": "invalid syntax (<ipython-input-83-e31534ddb5a2>, line 1)",
     "output_type": "error",
     "traceback": [
      "\u001b[0;36m  File \u001b[0;32m\"<ipython-input-83-e31534ddb5a2>\"\u001b[0;36m, line \u001b[0;32m1\u001b[0m\n\u001b[0;31m    predictions  = [if [x>0.5]: x=0 else: x=1 for x in predictions]\u001b[0m\n\u001b[0m                     ^\u001b[0m\n\u001b[0;31mSyntaxError\u001b[0m\u001b[0;31m:\u001b[0m invalid syntax\n"
     ]
    }
   ],
   "source": [
    "predictions  = [if [x>0.5]: x=0 else: x=1 for x in predictions]"
   ]
  },
  {
   "cell_type": "code",
   "execution_count": 92,
   "metadata": {
    "collapsed": false
   },
   "outputs": [],
   "source": [
    "predictions[predictions>0.5] = 1\n",
    "predictions[predictions<=0.5] = 0"
   ]
  },
  {
   "cell_type": "code",
   "execution_count": 100,
   "metadata": {
    "collapsed": false
   },
   "outputs": [
    {
     "data": {
      "text/plain": [
       "12500"
      ]
     },
     "execution_count": 100,
     "metadata": {},
     "output_type": "execute_result"
    }
   ],
   "source": []
  },
  {
   "cell_type": "code",
   "execution_count": null,
   "metadata": {
    "collapsed": true
   },
   "outputs": [],
   "source": []
  }
 ],
 "metadata": {
  "kernelspec": {
   "display_name": "Python 2",
   "language": "python",
   "name": "python2"
  },
  "language_info": {
   "codemirror_mode": {
    "name": "ipython",
    "version": 2
   },
   "file_extension": ".py",
   "mimetype": "text/x-python",
   "name": "python",
   "nbconvert_exporter": "python",
   "pygments_lexer": "ipython2",
   "version": "2.7.10"
  }
 },
 "nbformat": 4,
 "nbformat_minor": 2
}
