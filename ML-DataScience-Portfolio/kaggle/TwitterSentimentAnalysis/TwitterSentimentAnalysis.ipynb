{"cells":[
 {
  "cell_type": "code",
  "execution_count": null,
  "metadata": {
   "collapsed": false
  },
  "outputs": [],
  "source": "# This Python 3 environment comes with many helpful analytics libraries installed\n# It is defined by the kaggle/python docker image: https://github.com/kaggle/docker-python\n# For example, here's several helpful packages to load in \n\nimport numpy as np # linear algebra\nimport pandas as pd # data processing, CSV file I/O (e.g. pd.read_csv)\n\n# Input data files are available in the \"../input/\" directory.\n# For example, running this (by clicking run or pressing Shift+Enter) will list the files in the input directory\n\nfrom subprocess import check_output\ndata = pd.read_csv(\"../input/Tweets.csv\")\ndata.head(1)"
 },
 {
  "cell_type": "code",
  "execution_count": null,
  "metadata": {
   "collapsed": false
  },
  "outputs": [],
  "source": "data.airline.value_counts()\ndata.columns"
 },
 {
  "cell_type": "code",
  "execution_count": null,
  "metadata": {
   "collapsed": false
  },
  "outputs": [],
  "source": "pd.Series(data[\"airline\"]).value_counts().plot(kind = \"bar\",figsize=(8,6),fontsize=12,rot = 0, title = \"Airline\")"
 },
 {
  "cell_type": "code",
  "execution_count": null,
  "metadata": {
   "collapsed": false
  },
  "outputs": [],
  "source": "data.airline_sentiment.value_counts()\n"
 },
 {
  "cell_type": "code",
  "execution_count": null,
  "metadata": {
   "collapsed": false
  },
  "outputs": [],
  "source": "pd.Series(data[\"airline_sentiment\"]).value_counts().plot(kind = \"bar\",figsize=(8,6),fontsize=12,rot = 0, title = \"airline_sentiment\")"
 },
 {
  "cell_type": "code",
  "execution_count": null,
  "metadata": {
   "collapsed": false
  },
  "outputs": [],
  "source": "pd.Series(data[\"airline\"]).value_counts().plot(kind = \"pie\",figsize=(8,6),fontsize=12,rot = 0, title = \"Airline\")"
 },
 {
  "cell_type": "code",
  "execution_count": null,
  "metadata": {
   "collapsed": false
  },
  "outputs": [],
  "source": "pd.Series(data[\"airline_sentiment\"]).value_counts().plot(kind = \"pie\",figsize=(8,6),fontsize=12,rot = 0, title = \"airline_sentiment\")"
 },
 {
  "cell_type": "code",
  "execution_count": null,
  "metadata": {
   "collapsed": false
  },
  "outputs": [],
  "source": "data[\"tweet_location\"].unique"
 },
 {
  "cell_type": "code",
  "execution_count": null,
  "metadata": {
   "collapsed": false
  },
  "outputs": [],
  "source": "pd.Series(data[\"negativereason\"]).value_counts().plot(kind = \"barh\",figsize=(10,6),fontsize=12,rot = 0, title = \"Negative Reason\")"
 },
 {
  "cell_type": "code",
  "execution_count": null,
  "metadata": {
   "collapsed": false
  },
  "outputs": [],
  "source": "pd.Series(data[\"negativereason\"]).value_counts().head(5).plot(kind = \"pie\",labels=[\"Customer Service Issue\", \"Late Flight\", \"Can't Tell\",\"Cancelled Flight\",\"Lost Luggage\"],\n                                                      figsize=(6,6),fontsize=12,rot = 0, title = \"Negative Reason\")"
 },
 {
  "cell_type": "code",
  "execution_count": null,
  "metadata": {
   "collapsed": false
  },
  "outputs": [],
  "source": "data.tweet_location.value_counts()  \n"
 },
 {
  "cell_type": "code",
  "execution_count": null,
  "metadata": {
   "collapsed": false
  },
  "outputs": [],
  "source": "pd.Series(data[\"user_timezone\"]).value_counts().head(10).plot(kind = \"barh\",figsize=(8,6),title = \"User_Timezone\")\n\n\n"
 },
 {
  "cell_type": "code",
  "execution_count": null,
  "metadata": {
   "collapsed": false
  },
  "outputs": [],
  "source": "pd.Series(data[\"user_timezone\"]).value_counts().head(5).plot(kind = \"pie\",figsize=(8,6),title = \"User_Timezone\")\n"
 },
 {
  "cell_type": "code",
  "execution_count": null,
  "metadata": {
   "collapsed": false
  },
  "outputs": [],
  "source": "air_sen=pd.crosstab(data.airline, data.airline_sentiment)\nair_sen"
 },
 {
  "cell_type": "code",
  "execution_count": null,
  "metadata": {
   "collapsed": false
  },
  "outputs": [],
  "source": "percentage=air_sen.apply(lambda a: a / a.sum() * 100, axis=1)\npercentage"
 },
 {
  "cell_type": "code",
  "execution_count": null,
  "metadata": {
   "collapsed": false
  },
  "outputs": [],
  "source": "pd.Series(percentage[\"negative\"]).plot(kind = \"bar\",figsize=(8,6),title = \"Most Negative Airlines\")\n"
 },
 {
  "cell_type": "code",
  "execution_count": null,
  "metadata": {
   "collapsed": false
  },
  "outputs": [],
  "source": "pd.Series(percentage[\"positive\"]).plot(kind = \"bar\",figsize=(8,6),title = \"Most Positive Airlines\")\n"
 },
 {
  "cell_type": "code",
  "execution_count": null,
  "metadata": {
   "collapsed": false
  },
  "outputs": [],
  "source": ""
 }
],"metadata":{"kernelspec":{"display_name":"Python 3","language":"python","name":"python3"}}, "nbformat": 4, "nbformat_minor": 0}